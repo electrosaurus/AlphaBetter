{
 "cells": [
  {
   "cell_type": "markdown",
   "id": "f468f666-4e85-4fef-9eb5-2bc969c384c7",
   "metadata": {
    "tags": []
   },
   "source": [
    "# Prepare\n",
    "---"
   ]
  },
  {
   "cell_type": "code",
   "execution_count": null,
   "id": "1b0440ba-ca47-46f1-9931-56786adb7725",
   "metadata": {
    "tags": []
   },
   "outputs": [],
   "source": [
    "%load_ext autoreload\n",
    "%autoreload 2\n",
    "\n",
    "import sys\n",
    "from pathlib import Path\n",
    "alphabetter_path = Path('').resolve().parent\n",
    "if str(alphabetter_path) not in sys.path:\n",
    "    sys.path.append(str(alphabetter_path))\n",
    "\n",
    "import logging\n",
    "from alphabetter.config import default as config\n",
    "import matplotlib.pyplot as plt\n",
    "import numpy as np\n",
    "import pandas as pd\n",
    "\n",
    "from alphabetter.ml import *\n",
    "from tqdm.notebook import tqdm\n",
    "from datetime import date, datetime\n",
    "from pathlib import Path\n",
    "from pprint import pprint\n",
    "from IPython.display import display, JSON\n",
    "\n",
    "logger = logging.getLogger()\n",
    "logger.setLevel(logging.WARNING)\n",
    "config.progress_bar_class = tqdm\n",
    "random_state = None"
   ]
  },
  {
   "cell_type": "markdown",
   "id": "752080d8-f2eb-4b94-8c93-049bfff7187c",
   "metadata": {},
   "source": [
    "# Match dataset\n",
    "---"
   ]
  },
  {
   "cell_type": "markdown",
   "id": "aef7433f-0287-40b5-ac41-eebd2cdd4b29",
   "metadata": {},
   "source": [
    "## Select a dataset of matches"
   ]
  },
  {
   "cell_type": "code",
   "execution_count": null,
   "id": "19f53c3a-0ca0-48ac-9a3e-07dbdd2183e8",
   "metadata": {
    "tags": []
   },
   "outputs": [],
   "source": [
    "df = select_dataset().match.drop_without_points()"
   ]
  },
  {
   "cell_type": "markdown",
   "id": "2475136f-1f5a-4c71-994d-266612477e82",
   "metadata": {},
   "source": [
    "## Save the dataset of matches"
   ]
  },
  {
   "cell_type": "code",
   "execution_count": null,
   "id": "fd4107fc-c5e6-4525-83dc-49197bc18221",
   "metadata": {
    "tags": []
   },
   "outputs": [],
   "source": [
    "print(save_match_dataset(df))"
   ]
  },
  {
   "cell_type": "markdown",
   "id": "0bf23087-cae2-4ee4-964c-8e3cd9fbc72e",
   "metadata": {},
   "source": [
    "# Outcome predictor\n",
    "---"
   ]
  },
  {
   "cell_type": "markdown",
   "id": "5529ee9b-89c7-4e8e-9160-2a2631f97c7e",
   "metadata": {
    "tags": []
   },
   "source": [
    "## Read a dataset of matches"
   ]
  },
  {
   "cell_type": "code",
   "execution_count": null,
   "id": "e2af5d4b-6e4b-4f00-af42-b999fd02e962",
   "metadata": {
    "tags": []
   },
   "outputs": [],
   "source": [
    "df = read_match_dataset()"
   ]
  },
  {
   "cell_type": "markdown",
   "id": "fe52a499-784b-44c5-bb00-7d7d4d726f02",
   "metadata": {},
   "source": [
    "## Describe the dataset of matches"
   ]
  },
  {
   "cell_type": "code",
   "execution_count": null,
   "id": "73825a47-aa87-45d9-a012-0d6bd40e2c28",
   "metadata": {
    "tags": []
   },
   "outputs": [],
   "source": [
    "display(pd.DataFrame({'': summarize_dataset(df)}).rename_axis(index='Dataset'))\n",
    "df.groupby('match.league').size().plot.pie(legend=False, cmap='tab20', title='Matches by league');"
   ]
  },
  {
   "cell_type": "markdown",
   "id": "704abf99-6ec2-45c1-9752-d56e67eb9bf2",
   "metadata": {},
   "source": [
    "## Create an outcome predictor"
   ]
  },
  {
   "cell_type": "code",
   "execution_count": null,
   "id": "1d757daf-3b53-4b59-a23c-9a0ccc0b9d63",
   "metadata": {
    "tags": []
   },
   "outputs": [],
   "source": [
    "from sklearn.linear_model import SGDClassifier\n",
    "predictor = SKLearnPredictor(\n",
    "    features=[\n",
    "        LeagueFeatures(),\n",
    "        TeamFeatures(encode_venue=True),\n",
    "    ],\n",
    "    classifier=SGDClassifier(loss='log_loss', penalty='l1'),\n",
    ")"
   ]
  },
  {
   "cell_type": "markdown",
   "id": "dfb611d5-b0bf-4605-b840-a188554bb39f",
   "metadata": {
    "tags": []
   },
   "source": [
    "## Validate the outcome predictor"
   ]
  },
  {
   "cell_type": "code",
   "execution_count": null,
   "id": "4b7d7794-a41a-4d7a-bb14-8ca76c91422c",
   "metadata": {
    "tags": []
   },
   "outputs": [],
   "source": [
    "predictor_cv = PredictorCrossValidator(\n",
    "    splitter=ShuffleSplitter(\n",
    "        train_draws=True,\n",
    "        test_frac=0.5,\n",
    "        droppers=[\n",
    "            RareTeamDropper(min_matches=10),\n",
    "        ],\n",
    "        random_state=random_state,\n",
    "    ),\n",
    "    n_splits=8,\n",
    "    median_split_metrics='accuracy',\n",
    ")\n",
    "predictor_score_df, predicted_df = predictor_cv(predictor, df)\n",
    "display(predictor_score_df.describe().T.drop(columns='count').round(4))\n",
    "fig, ax = plt.subplots(figsize=(6, 3), dpi=90)\n",
    "ax.set_xlabel('accuracy')\n",
    "predictor_score_df.accuracy.plot.hist(ax=ax)\n",
    "print(f'Median dataset prediction accuracy: {predicted_df.prediction.accuracy():.4f}')"
   ]
  },
  {
   "cell_type": "markdown",
   "id": "a487fd7f-bd75-403f-941f-15c39ffb665b",
   "metadata": {},
   "source": [
    "## Save the outcome predictor"
   ]
  },
  {
   "cell_type": "code",
   "execution_count": null,
   "id": "22e36cf8-6e44-4cf8-90d9-7916e66d36ba",
   "metadata": {
    "tags": []
   },
   "outputs": [],
   "source": [
    "predictor.fit(df)\n",
    "print(predictor.save())"
   ]
  },
  {
   "cell_type": "markdown",
   "id": "01f1a457-01e6-46c5-8e2b-8165574867d4",
   "metadata": {},
   "source": [
    "## Save the dataset of predicted matches"
   ]
  },
  {
   "cell_type": "code",
   "execution_count": null,
   "id": "64bb792e-4925-4045-906a-270f32865b8e",
   "metadata": {
    "tags": []
   },
   "outputs": [],
   "source": [
    "print(save_predicted_match_dataset(predicted_df))"
   ]
  },
  {
   "cell_type": "markdown",
   "id": "125bc2de-3cff-40a4-9ca3-9da78b8b2452",
   "metadata": {},
   "source": [
    "# Better\n",
    "---"
   ]
  },
  {
   "cell_type": "markdown",
   "id": "8eae7893-e4d2-4b85-9119-e8b33158a40d",
   "metadata": {},
   "source": [
    "## Read a dataset of predicted matches"
   ]
  },
  {
   "cell_type": "code",
   "execution_count": null,
   "id": "11565600-5ec9-4f0d-a358-bf2ae1fd7f66",
   "metadata": {
    "tags": []
   },
   "outputs": [],
   "source": [
    "predicted_df = read_predicted_match_dataset().odds.dropna()"
   ]
  },
  {
   "cell_type": "markdown",
   "id": "9894366d-aeb0-4573-8d39-4a8678720a8f",
   "metadata": {},
   "source": [
    "## Describe the dataset of predicted matches"
   ]
  },
  {
   "cell_type": "code",
   "execution_count": null,
   "id": "82ba5663-637f-40dd-b40f-7951505dffd9",
   "metadata": {
    "tags": []
   },
   "outputs": [],
   "source": [
    "display(pd.DataFrame({'': summarize_dataset(predicted_df)}).rename_axis(index='Dataset'))\n",
    "prediction_df = predicted_df.groupby('match.league').apply(\n",
    "    lambda df: pd.Series({'Prediction accuracy': df.prediction.accuracy(),\n",
    "                          'Odds accuracy': df.odds.accuracy()})).rename_axis(index=None)\n",
    "prediction_df['Prediction advantage'] = prediction_df.eval('`Prediction accuracy` - `Odds accuracy`')\n",
    "display(prediction_df.sort_values('Prediction advantage', ascending=False))\n",
    "predicted_df.groupby('match.league').size().plot.pie(legend=False, title='Predicted matches by league', cmap='tab20');"
   ]
  },
  {
   "cell_type": "markdown",
   "id": "4674b987-9330-47e2-8e2f-23482dd22751",
   "metadata": {
    "tags": []
   },
   "source": [
    "## Drop leagues with low prediction accuracy advantage"
   ]
  },
  {
   "cell_type": "code",
   "execution_count": null,
   "id": "7896d246-a95d-43a7-929a-6b0ba9c127c0",
   "metadata": {
    "tags": []
   },
   "outputs": [],
   "source": [
    "bet_leagues = {\n",
    "    'Austrian Football Bundesliga',\n",
    "    'Belgian Pro League',\n",
    "    'Bundesliga',\n",
    "    'EFL Championship',\n",
    "    'Eredivisie',\n",
    "    'Ligue 1',\n",
    "    'La Liga',\n",
    "    'Premier League',\n",
    "    'Premier League Russia',\n",
    "    'Primeira Liga',\n",
    "    'Scottish Premier League',\n",
    "    'Segunda División',\n",
    "    'Serbian SuperLiga',\n",
    "    'Serie A',\n",
    "    'Super League Greece',\n",
    "}\n",
    "lpal_dropper = LowPredictionAdvantageLeagueDroppeer(0.0)\n",
    "league_dropper = LeagueDropper(allowed_leagues=bet_leagues)\n",
    "predicted_df = league_dropper.drop(predicted_df)\n",
    "lpal_dropper.fit(predicted_df)\n",
    "predicted_df = lpal_dropper.drop(predicted_df)"
   ]
  },
  {
   "cell_type": "markdown",
   "id": "3b43821a-da39-4de9-9297-9ab293e1e0ca",
   "metadata": {},
   "source": [
    "## Create a better"
   ]
  },
  {
   "cell_type": "code",
   "execution_count": null,
   "id": "d0e101c8-30aa-40a1-98e6-b53ea6bf0b22",
   "metadata": {
    "tags": []
   },
   "outputs": [],
   "source": [
    "better = OPCBetter(\n",
    "    bet_rate=0.05,\n",
    "    outcomes=['1', 'X', '2', '1X', '2X'],\n",
    "    accuracy_factor=2,\n",
    "    expediency_contrast=3,\n",
    ")"
   ]
  },
  {
   "cell_type": "markdown",
   "id": "86854c34-b1fa-4799-b962-d414151d50cf",
   "metadata": {},
   "source": [
    "## Validate the better"
   ]
  },
  {
   "cell_type": "code",
   "execution_count": null,
   "id": "f28eb672-226b-467f-adc7-8516b7bad21d",
   "metadata": {
    "tags": []
   },
   "outputs": [],
   "source": [
    "better_cv = BetterCrossValidator(\n",
    "    splitter=ShuffleSplitter(\n",
    "        test_frac=0.7,\n",
    "        random_state=random_state,\n",
    "    ),\n",
    "    n_splits=50,\n",
    "    median_split_metrics='roi_per_week',\n",
    ")\n",
    "better_score_df, bet_df = better_cv(better, predicted_df.odds.dropna())\n",
    "fig, axes = plt.subplots(2, 2, figsize=(8, 5.5), dpi=90, sharey=True)\n",
    "metrics_list = ['roi', 'roi_per_week', 'bets_per_month', 'win_rate']\n",
    "for ax, metrics in zip(axes.reshape(-1), metrics_list):\n",
    "    better_score_df[metrics].plot.hist(ax=ax)\n",
    "    ax.set_xlabel(metrics)\n",
    "fig.tight_layout()\n",
    "display(better_score_df.describe().T.drop(columns='count').round(4))"
   ]
  },
  {
   "cell_type": "markdown",
   "id": "c95c2e46-69f0-4373-b6bf-1f5d00e2602a",
   "metadata": {},
   "source": [
    "## Describe the dataset of bet matches"
   ]
  },
  {
   "cell_type": "code",
   "execution_count": null,
   "id": "c30673e3-195d-4bbc-be7e-edad294c397a",
   "metadata": {
    "tags": []
   },
   "outputs": [],
   "source": [
    "league_summary_df = bet_df.bet.drop_null().groupby('match.league').apply(\n",
    "    lambda df: pd.Series({'N': df.bet.count(),\n",
    "                          'ROI': df.bet.roi_per_bet(),\n",
    "                          'Total ROI': df.bet.roi_per_bet() * df.bet.count()}))\n",
    "fig, axes = plt.subplots(1, 2, figsize=(8,8))\n",
    "league_summary_df['N'].rename(None).plot.pie(title='Bets by league', cmap='tab20', ax=axes[0]);\n",
    "league_summary_df = league_summary_df.query('N != 0')\n",
    "bet_df.bet.drop_null().groupby('bet.outcome').size().plot.pie(legend=False, ax=axes[1], title='Bets by outcome');\n",
    "fig.tight_layout()\n",
    "fig, axes = plt.subplots(1, 2, figsize=(8, 2 + len(league_summary_df) / 8), dpi=90, sharey=True)\n",
    "league_summary_df.rename_axis(index=None).plot.barh(y='ROI', grid=True, legend=False, title='ROI', ax=axes[0]);\n",
    "league_summary_df.rename_axis(index=None).plot.barh(y='Total ROI', grid=True, legend=False, title='Total ROI', ax=axes[1]);"
   ]
  },
  {
   "cell_type": "markdown",
   "id": "24bf3918-2e69-47c6-b22b-3aef2d7c22f5",
   "metadata": {},
   "source": [
    "## Save the better"
   ]
  },
  {
   "cell_type": "code",
   "execution_count": null,
   "id": "dd624b5f-c1e9-4000-85a0-a0182aa09f2f",
   "metadata": {
    "tags": []
   },
   "outputs": [],
   "source": [
    "better.fit(predicted_df.odds.dropna())\n",
    "print(better.save())"
   ]
  },
  {
   "cell_type": "markdown",
   "id": "de8b4391-1bff-4314-879e-d3624deb4468",
   "metadata": {},
   "source": [
    "## Save the bet dataset"
   ]
  },
  {
   "cell_type": "code",
   "execution_count": null,
   "id": "7645a917-12d8-490a-8b1e-5277f1881105",
   "metadata": {
    "tags": []
   },
   "outputs": [],
   "source": [
    "print(save_bet_match_dataset(bet_df))"
   ]
  },
  {
   "cell_type": "markdown",
   "id": "b6c13636-c183-44b4-8f44-c7dea96980ab",
   "metadata": {},
   "source": [
    "# Accountant"
   ]
  },
  {
   "cell_type": "markdown",
   "id": "e3af9179-1ec6-4cc2-b64a-9308125055a4",
   "metadata": {},
   "source": [
    "## Read a dataset of bet matches"
   ]
  },
  {
   "cell_type": "code",
   "execution_count": null,
   "id": "2f2f9982-1f60-426a-bb86-b9c7a208453a",
   "metadata": {
    "tags": []
   },
   "outputs": [],
   "source": [
    "bet_df = read_bet_match_dataset()\n",
    "pd.DataFrame({'': summarize_dataset(bet_df)})"
   ]
  },
  {
   "cell_type": "markdown",
   "id": "90cbe868-af56-4da1-900f-7cca549690e4",
   "metadata": {},
   "source": [
    "## Create an accountant"
   ]
  },
  {
   "cell_type": "code",
   "execution_count": null,
   "id": "2605009c-fbba-4a86-a37c-766c29a729ff",
   "metadata": {
    "tags": []
   },
   "outputs": [],
   "source": [
    "accountant = ParametricAccountant(\n",
    "    capital=10_000,\n",
    "    min_investment_fraction=0.05,\n",
    "    max_investment_fraction=0.15,\n",
    "    credit=5_000,\n",
    "    min_investment=300,\n",
    "    alpha=0.5,\n",
    ")"
   ]
  },
  {
   "cell_type": "markdown",
   "id": "7d269d72-87f0-4dfb-bf5c-3c7b381066a4",
   "metadata": {},
   "source": [
    "## Validate the acountant"
   ]
  },
  {
   "cell_type": "code",
   "execution_count": null,
   "id": "b3783c6f-9404-41cc-b0e0-4f2f7bcade95",
   "metadata": {
    "tags": []
   },
   "outputs": [],
   "source": [
    "accountant_cv = AccountantCrossValidator(\n",
    "    splitter=ShuffleSplitter(\n",
    "        test_frac=1,\n",
    "        random_state=random_state,\n",
    "    ),\n",
    "    n_splits=200,\n",
    "    median_split_metrics='qoc_months',\n",
    ")\n",
    "accountant_score_df, accounted_df = accountant_cv(accountant, bet_df)\n",
    "fig, axes = plt.subplots(2, 2, figsize=(8, 5.5), dpi=90, sharey=True)\n",
    "metrics_list = ['roi', 'annual_roc', 'doc_months', 'qoc_months']\n",
    "for ax, metrics in zip(axes.reshape(-1), metrics_list):\n",
    "    scores = accountant_score_df[metrics]\n",
    "    scores.plot.hist(ax=ax, alpha=scores.notna().mean())\n",
    "    ax.set_xlabel(metrics)\n",
    "fig.tight_layout()\n",
    "accountant_score_df.describe().T.round(4)"
   ]
  },
  {
   "cell_type": "markdown",
   "id": "e4e02ed3-c58e-48cc-9928-dd8e0d001d32",
   "metadata": {},
   "source": [
    "## Save the accountant"
   ]
  },
  {
   "cell_type": "code",
   "execution_count": null,
   "id": "d0e74bfb-4c24-4499-a74a-a61326112e19",
   "metadata": {
    "tags": []
   },
   "outputs": [],
   "source": [
    "accountant.fit(bet_df)\n",
    "print(accountant.save())"
   ]
  }
 ],
 "metadata": {
  "kernelspec": {
   "display_name": "Python 3 (ipykernel)",
   "language": "python",
   "name": "python3"
  },
  "language_info": {
   "codemirror_mode": {
    "name": "ipython",
    "version": 3
   },
   "file_extension": ".py",
   "mimetype": "text/x-python",
   "name": "python",
   "nbconvert_exporter": "python",
   "pygments_lexer": "ipython3",
   "version": "3.11.2"
  },
  "toc-autonumbering": true,
  "toc-showmarkdowntxt": false,
  "vscode": {
   "interpreter": {
    "hash": "aee8b7b246df8f9039afb4144a1f6fd8d2ca17a180786b69acc140d282b71a49"
   }
  }
 },
 "nbformat": 4,
 "nbformat_minor": 5
}
